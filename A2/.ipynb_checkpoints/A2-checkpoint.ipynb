{
 "cells": [
  {
   "cell_type": "markdown",
   "id": "f6ac6b89",
   "metadata": {},
   "source": [
    "# FIT 1043 Introduction to Data Science\n",
    "\n",
    "## Assignment 2\n",
    "\n",
    "Name: Goh Jia Xuan  \n",
    "Monash ID: 33589666"
   ]
  },
  {
   "cell_type": "markdown",
   "id": "4a30ff6a",
   "metadata": {},
   "source": [
    "### Part A: Classification\n",
    "\n",
    "A1. Supervised Learning"
   ]
  },
  {
   "cell_type": "code",
   "execution_count": null,
   "id": "682c4d92",
   "metadata": {},
   "outputs": [],
   "source": []
  }
 ],
 "metadata": {
  "kernelspec": {
   "display_name": "Python 3 (ipykernel)",
   "language": "python",
   "name": "python3"
  },
  "language_info": {
   "codemirror_mode": {
    "name": "ipython",
    "version": 3
   },
   "file_extension": ".py",
   "mimetype": "text/x-python",
   "name": "python",
   "nbconvert_exporter": "python",
   "pygments_lexer": "ipython3",
   "version": "3.11.5"
  }
 },
 "nbformat": 4,
 "nbformat_minor": 5
}
